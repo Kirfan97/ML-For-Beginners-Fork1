{
 "cells": [
  {
   "cell_type": "markdown",
   "metadata": {},
   "source": [
    "#### Label Encoder"
   ]
  },
  {
   "cell_type": "code",
   "execution_count": null,
   "metadata": {},
   "outputs": [],
   "source": [
    "from sklearn.preprocessing import LabelEncoder\n",
    "\n",
    "new_columns = ['Color','Origin','Item Size','Variety','City Name','Package']\n",
    "\n",
    "new_df = df.drop([c for c in df.columns if c not in new_columns], axis=1)\n",
    "\n",
    "new_df.dropna(inplace=True)\n",
    "\n",
    "# have to use apply to do the label encoding one by one because the method requires only 1 D array.\n",
    "new_pumpkins = new_df.apply(LabelEncoder().fit_transform)"
   ]
  }
 ],
 "metadata": {
  "language_info": {
   "name": "python"
  },
  "orig_nbformat": 4
 },
 "nbformat": 4,
 "nbformat_minor": 2
}
